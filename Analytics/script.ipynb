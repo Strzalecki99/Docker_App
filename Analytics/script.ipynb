{
 "cells": [
  {
   "cell_type": "markdown",
   "id": "56682541",
   "metadata": {},
   "source": [
    "## The task was solved using two methods:\n",
    "\n",
    "1. by performing SQL queries,\n",
    "2. by implementing ORM (SQLAlchemy)."
   ]
  },
  {
   "cell_type": "markdown",
   "id": "5beda79b",
   "metadata": {},
   "source": [
    "### First method (SQL queries)"
   ]
  },
  {
   "cell_type": "markdown",
   "id": "c92729ec",
   "metadata": {},
   "source": [
    "**Testing DB Connection**"
   ]
  },
  {
   "cell_type": "code",
   "execution_count": 10,
   "id": "b00cbf49",
   "metadata": {},
   "outputs": [],
   "source": [
    "import psycopg2\n",
    "\n",
    "# Connect to PostgreSQL\n",
    "conn = psycopg2.connect(\n",
    "    dbname=\"movielens_db\",\n",
    "    user=\"postgres\",\n",
    "    password=\"postgres\",\n",
    "    host=\"db\",\n",
    "    port=\"5432\"\n",
    ")"
   ]
  },
  {
   "cell_type": "markdown",
   "id": "68fe49ad",
   "metadata": {},
   "source": [
    "**SQL queries**"
   ]
  },
  {
   "cell_type": "markdown",
   "id": "eca6069b",
   "metadata": {},
   "source": [
    "**1. How many movies are in the dataset?**"
   ]
  },
  {
   "cell_type": "code",
   "execution_count": 11,
   "id": "82b8c20f",
   "metadata": {},
   "outputs": [
    {
     "name": "stdout",
     "output_type": "stream",
     "text": [
      "Total number of movies: 9742\n"
     ]
    }
   ],
   "source": [
    "# Create a cursor object\n",
    "cur = conn.cursor()\n",
    "\n",
    "cur.execute(\"SELECT COUNT(*) FROM movies;\")\n",
    "movie_count = cur.fetchone()[0]\n",
    "print(f\"Total number of movies: {movie_count}\")"
   ]
  },
  {
   "cell_type": "markdown",
   "id": "1c7d3eb7",
   "metadata": {},
   "source": [
    " **2. What is the most common genre of movie?**"
   ]
  },
  {
   "cell_type": "code",
   "execution_count": 12,
   "id": "8047dcc0",
   "metadata": {},
   "outputs": [
    {
     "name": "stdout",
     "output_type": "stream",
     "text": [
      "Most common genre: Drama\n"
     ]
    }
   ],
   "source": [
    "cur.execute(\"\"\"\n",
    "    SELECT genres, COUNT(*)\n",
    "    FROM movies\n",
    "    GROUP BY genres\n",
    "    ORDER BY COUNT(*) DESC\n",
    "    LIMIT 1;\n",
    "\"\"\")\n",
    "most_common_genre = cur.fetchone()[0]\n",
    "print(f\"Most common genre: {most_common_genre}\")"
   ]
  },
  {
   "cell_type": "markdown",
   "id": "b33cf270",
   "metadata": {},
   "source": [
    "**3. What are top 10 movies with the highest rating?**"
   ]
  },
  {
   "cell_type": "code",
   "execution_count": 13,
   "id": "dbbf5b89",
   "metadata": {},
   "outputs": [
    {
     "name": "stdout",
     "output_type": "stream",
     "text": [
      "Top 10 movies with the highest average rating:\n",
      "('Brother (Brat) (1997)', 5.0)\n",
      "('Eva (2011)', 5.0)\n",
      "('Go for Zucker! (Alles auf Zucker!) (2004)', 5.0)\n",
      "('Holy Motors (2012)', 5.0)\n",
      "('Connections (1978)', 5.0)\n",
      "('Watching the Detectives (2007)', 5.0)\n",
      "('Girls About Town (1931)', 5.0)\n",
      "('Story of Women (Affaire de femmes, Une) (1988)', 5.0)\n",
      "('Nasu: Summer in Andalusia (2003)', 5.0)\n",
      "('Into the Woods (1991)', 5.0)\n"
     ]
    }
   ],
   "source": [
    "cur.execute(\"\"\"\n",
    "    SELECT m.title, AVG(r.rating) as avg_rating\n",
    "    FROM ratings r\n",
    "    JOIN movies m ON r.movieId = m.movieId\n",
    "    GROUP BY m.title\n",
    "    ORDER BY avg_rating DESC\n",
    "    LIMIT 10;\n",
    "\"\"\")\n",
    "top_movies = cur.fetchall()\n",
    "print(\"Top 10 movies with the highest average rating:\")\n",
    "for movie in top_movies:\n",
    "    print(movie)"
   ]
  },
  {
   "cell_type": "markdown",
   "id": "ec84b4ee",
   "metadata": {},
   "source": [
    "**4. Who are the 5 most often rating users?**"
   ]
  },
  {
   "cell_type": "code",
   "execution_count": 14,
   "id": "5e34b721",
   "metadata": {},
   "outputs": [
    {
     "name": "stdout",
     "output_type": "stream",
     "text": [
      "Top 5 most active users:\n",
      "(414, 2698)\n",
      "(599, 2478)\n",
      "(474, 2108)\n",
      "(448, 1864)\n",
      "(274, 1346)\n"
     ]
    }
   ],
   "source": [
    "cur.execute(\"\"\"\n",
    "    SELECT userId, COUNT(*) as rating_count\n",
    "    FROM ratings\n",
    "    GROUP BY userId\n",
    "    ORDER BY rating_count DESC\n",
    "    LIMIT 5;\n",
    "\"\"\")\n",
    "most_active_users = cur.fetchall()\n",
    "print(\"Top 5 most active users:\")\n",
    "for user in most_active_users:\n",
    "    print(user)"
   ]
  },
  {
   "cell_type": "markdown",
   "id": "0da8a9f0",
   "metadata": {},
   "source": [
    "**5. When was done first and last rate included in dataset, and what was the rated movie title?**"
   ]
  },
  {
   "cell_type": "code",
   "execution_count": 16,
   "id": "4612ba71",
   "metadata": {},
   "outputs": [
    {
     "name": "stdout",
     "output_type": "stream",
     "text": [
      "First rating: Copycat (1995) at 1996-03-29 18:36:55+00:00\n",
      "Last rating: Crumb (1994) at 2018-09-24 14:27:30+00:00\n"
     ]
    }
   ],
   "source": [
    "cur.execute(\"\"\"\n",
    "    SELECT m.title, to_timestamp(r.timestamp) as rating_time\n",
    "    FROM ratings r\n",
    "    JOIN movies m ON r.movieId = m.movieId\n",
    "    ORDER BY r.timestamp ASC\n",
    "    LIMIT 1;\n",
    "\"\"\")\n",
    "first_rating = cur.fetchone()\n",
    "print(f\"First rating: {first_rating[0]} at {first_rating[1]}\")\n",
    "\n",
    "cur.execute(\"\"\"\n",
    "    SELECT m.title, to_timestamp(r.timestamp) as rating_time\n",
    "    FROM ratings r\n",
    "    JOIN movies m ON r.movieId = m.movieId\n",
    "    ORDER BY r.timestamp DESC\n",
    "    LIMIT 1;\n",
    "\"\"\")\n",
    "last_rating = cur.fetchone()\n",
    "print(f\"Last rating: {last_rating[0]} at {last_rating[1]}\")"
   ]
  },
  {
   "cell_type": "markdown",
   "id": "84f57e3c",
   "metadata": {},
   "source": [
    "**6. Find all movies released in 1990.**"
   ]
  },
  {
   "cell_type": "code",
   "execution_count": 17,
   "id": "99a59011",
   "metadata": {},
   "outputs": [
    {
     "name": "stdout",
     "output_type": "stream",
     "text": [
      "Movies released in 1990:\n",
      "Home Alone (1990)\n",
      "Ghost (1990)\n",
      "Dances with Wolves (1990)\n",
      "Pretty Woman (1990)\n",
      "Days of Thunder (1990)\n",
      "Grifters, The (1990)\n",
      "Tie Me Up! Tie Me Down! (¡Átame!) (1990)\n",
      "Paris Is Burning (1990)\n",
      "Goodfellas (1990)\n",
      "Trust (1990)\n",
      "Rosencrantz and Guildenstern Are Dead (1990)\n",
      "Miller's Crossing (1990)\n",
      "Femme Nikita, La (Nikita) (1990)\n",
      "Pump Up the Volume (1990)\n",
      "Cyrano de Bergerac (1990)\n",
      "Amityville Curse, The (1990)\n",
      "Die Hard 2 (1990)\n",
      "Young Guns II (1990)\n",
      "Marked for Death (1990)\n",
      "Hunt for Red October, The (1990)\n",
      "King of New York (1990)\n",
      "Metropolitan (1990)\n",
      "Child's Play 2 (1990)\n",
      "Exorcist III, The (1990)\n",
      "Gremlins 2: The New Batch (1990)\n",
      "Back to the Future Part III (1990)\n",
      "Godfather: Part III, The (1990)\n",
      "Rescuers Down Under, The (1990)\n",
      "NeverEnding Story II: The Next Chapter, The (1990)\n",
      "My Blue Heaven (1990)\n",
      "Sheltering Sky, The (1990)\n",
      "Edward Scissorhands (1990)\n",
      "Tales from the Darkside: The Movie (1990)\n",
      "Heart Condition (1990)\n",
      "Rocky V (1990)\n",
      "Dick Tracy (1990)\n",
      "Arachnophobia (1990)\n",
      "Problem Child (1990)\n",
      "Total Recall (1990)\n",
      "Guardian, The (1990)\n",
      "RoboCop 2 (1990)\n",
      "Bride of Re-Animator (1990)\n",
      "Repossessed (1990)\n",
      "Stanley & Iris (1990)\n",
      "Awakenings (1990)\n",
      "Come See the Paradise (1990)\n",
      "Bonfire of the Vanities (1990)\n",
      "Two Jakes, The (1990)\n",
      "Pacific Heights (1990)\n",
      "Mo' Better Blues (1990)\n",
      "Teenage Mutant Ninja Turtles (1990)\n",
      "Jacob's Ladder (1990)\n",
      "Misery (1990)\n",
      "All the Vermeers in New York (1990)\n",
      "Flatliners (1990)\n",
      "Predator 2 (1990)\n",
      "Bird on a Wire (1990)\n",
      "Long Walk Home, The (1990)\n",
      "Hamlet (1990)\n",
      "Hot Spot, The (1990)\n",
      "House Party (1990)\n",
      "Air America (1990)\n",
      "Slumber Party Massacre III (1990)\n",
      "Sorority House Massacre II (1990)\n",
      "Avalon (1990)\n",
      "Mermaids (1990)\n",
      "Navy Seals (1990)\n",
      "Reversal of Fortune (1990)\n",
      "Alice (1990)\n",
      "Lord of the Flies (1990)\n",
      "Another 48 Hrs. (1990)\n",
      "Russia House, The (1990)\n",
      "Joe Versus the Volcano (1990)\n",
      "Taking Care of Business (1990)\n",
      "Three Men and a Little Lady (1990)\n",
      "Cadillac Man (1990)\n",
      "Wild Orchid (1990)\n",
      "Mountains of the Moon (1990)\n",
      "Men at Work (1990)\n",
      "Betsy's Wedding (1990)\n",
      "Ernest Goes to Jail (1990)\n",
      "Spaced Invaders (1990)\n",
      "Flashback (1990)\n",
      "My Father's Glory (La gloire de mon père) (1990)\n",
      "My Mother's Castle (Château de ma mère, Le) (1990)\n",
      "Blue Steel (1990)\n",
      "Miami Blues (1990)\n",
      "Europa Europa (Hitlerjunge Salomon) (1990)\n",
      "Green Card (1990)\n",
      "Akira Kurosawa's Dreams (Dreams) (1990)\n",
      "Sibling Rivalry (1990)\n",
      "Loose Cannons (1990)\n",
      "I Love You to Death (1990)\n",
      "Tremors (1990)\n",
      "Angel at My Table, An (1990)\n",
      "Handmaid's Tale, The (1990)\n",
      "Rookie, The (1990)\n",
      "White Hunter, Black Heart (1990)\n",
      "Darkman (1990)\n",
      "Freshman, The (1990)\n",
      "Kindergarten Cop (1990)\n",
      "Mr. Destiny (1990)\n",
      "Presumed Innocent (1990)\n",
      "Quick Change (1990)\n",
      "Revenge (1990)\n",
      "Wild at Heart (1990)\n",
      "Witches, The (1990)\n",
      "Madhouse (1990)\n",
      "Adventures of Ford Fairlane, The (1990)\n",
      "Henry & June (1990)\n",
      "Look Who's Talking Too (1990)\n",
      "Twister (1990)\n",
      "Nightbreed (1990)\n",
      "Robot Jox (1990)\n",
      "Frankenstein Unbound (1990)\n",
      "Delta Force 2 (Delta Force 2: The Colombian Connection) (1990)\n",
      "Night of the Living Dead (1990)\n",
      "Hairdresser's Husband, The (Le mari de la coiffeuse) (1990)\n",
      "Book of Love (1990)\n",
      "Memphis Belle (1990)\n",
      "Almost an Angel (1990)\n",
      "Cry-Baby (1990)\n",
      "Bullet in the Head (1990)\n",
      "Ghost Dad (1990)\n",
      "It (1990)\n",
      "Ju Dou (1990)\n",
      "Krays, The (1990)\n",
      "Lionheart (1990)\n",
      "Nuns on the Run (1990)\n",
      "State of Grace (1990)\n",
      "Days of Being Wild (A Fei jingjyuhn) (1990)\n",
      "Begotten (1990)\n",
      "Quigley Down Under (1990)\n",
      "Captain America (1990)\n",
      "Hardware (1990)\n",
      "Match Factory Girl, The (Tulitikkutehtaan tyttö) (1990)\n",
      "Heaven and Earth (Ten to Chi to) (1990)\n",
      "Troll 2 (1990)\n",
      "Civil War, The (1990)\n",
      "Mickey's The Prince and the Pauper (1990)\n",
      "Dragon Ball Z the Movie: The World's Strongest (a.k.a. Dragon Ball Z: The Strongest Guy in The World) (Doragon bôru Z: Kono yo de ichiban tsuyoi yatsu) (1990)\n",
      "Dragon Ball Z the Movie: The Tree of Might (Doragon bôru Z 3: Chikyû marugoto chô kessen) (1990)\n",
      "Dragon Ball Z: Bardock - The Father of Goku (Doragon bôru Z: Tatta hitori no saishuu kessen - Furiiza ni itonda Z senshi Kakarotto no chichi) (1990)\n",
      "I Bought a Vampire Motorcycle (1990)\n",
      "Maniac Cop 2 (1990)\n",
      "Jetsons: The Movie (1990)\n",
      "The Forbidden Dance (1990)\n"
     ]
    }
   ],
   "source": [
    "cur.execute(\"\"\"\n",
    "    SELECT title \n",
    "    FROM movies\n",
    "    WHERE title LIKE '%(1990)%';\n",
    "\"\"\")\n",
    "movies_1990 = cur.fetchall()\n",
    "print(\"Movies released in 1990:\")\n",
    "for movie in movies_1990:\n",
    "    print(movie[0])"
   ]
  },
  {
   "cell_type": "code",
   "execution_count": 20,
   "id": "9133f81b",
   "metadata": {},
   "outputs": [],
   "source": [
    "cur.close()\n",
    "conn.close()"
   ]
  },
  {
   "cell_type": "markdown",
   "id": "f1f240ac",
   "metadata": {},
   "source": [
    "### Second method (ORM implementation)"
   ]
  },
  {
   "cell_type": "code",
   "execution_count": 35,
   "id": "49e76236",
   "metadata": {},
   "outputs": [],
   "source": [
    "from sqlalchemy import create_engine, func, desc\n",
    "from sqlalchemy.orm import declarative_base, sessionmaker, Session\n",
    "from sqlalchemy import BigInteger, Column, ForeignKey, Float, Integer, String"
   ]
  },
  {
   "cell_type": "code",
   "execution_count": 43,
   "id": "5666918b",
   "metadata": {},
   "outputs": [],
   "source": [
    "# DB connection\n",
    "DB_URL = \"postgresql://postgres:postgres@db:5432/movielens_db\"\n",
    "\n",
    "Engine = create_engine(url = DB_URL)\n",
    "\n",
    "DB_session = sessionmaker(\n",
    "    autoflush = False,\n",
    "    autocommit = False,\n",
    "    bind = Engine\n",
    ")\n",
    "\n",
    "Base = declarative_base()\n",
    "Base.metadata.create_all(bind = Engine)"
   ]
  },
  {
   "cell_type": "code",
   "execution_count": 44,
   "id": "065b7e80",
   "metadata": {},
   "outputs": [],
   "source": [
    "# DB object mapping\n",
    "class Movie(Base):\n",
    "    __tablename__ = 'movies'\n",
    "\n",
    "    movieid = Column(Integer, primary_key = True, autoincrement = True)\n",
    "    title = Column(String)\n",
    "    genres = Column(String)\n",
    "\n",
    "class Rating(Base):\n",
    "    __tablename__ = 'ratings'\n",
    "\n",
    "    ratingid = Column(Integer, primary_key = True, autoincrement = True)\n",
    "    userid = Column(Integer)\n",
    "    movieid = Column(Integer, ForeignKey('movies.movieid'))\n",
    "    rating = Column(Float)\n",
    "    timestamp = Column(BigInteger)"
   ]
  },
  {
   "cell_type": "code",
   "execution_count": 56,
   "id": "bd8ccc1d",
   "metadata": {},
   "outputs": [],
   "source": [
    "def get_movies_count(db : Session):\n",
    "    return db.query(func.count(Movie.movieid)).scalar()\n",
    "\n",
    "def get_most_common_genre(db : Session):\n",
    "    return db\\\n",
    "        .query(Movie.genres, func.count(Movie.genres))\\\n",
    "        .group_by(Movie.genres)\\\n",
    "        .order_by(func.count(Movie.genres)\\\n",
    "        .desc())\\\n",
    "        .first()\n",
    "\n",
    "def get_top_10_movies(db : Session):\n",
    "    return db\\\n",
    "        .query(Movie.title, func.avg(Rating.rating).label('avg_rating'))\\\n",
    "        .join(Rating, Movie.movieid == Rating.movieid)\\\n",
    "        .group_by(Movie.title)\\\n",
    "        .order_by(desc('avg_rating'))\\\n",
    "        .limit(10)\\\n",
    "        .all()\n",
    "\n",
    "def get_5_most_often_rating_users(db : Session):\n",
    "    return db\\\n",
    "        .query(Rating.userid, func.count(Rating.userid).label('rating_count'))\\\n",
    "        .group_by(Rating.userid)\\\n",
    "        .order_by(desc('rating_count'))\\\n",
    "        .limit(5)\\\n",
    "        .all()\n",
    "\n",
    "def get_first_rating(db : Session):\n",
    "    return db\\\n",
    "        .query(Movie.title, func.to_timestamp(Rating.timestamp))\\\n",
    "        .join(Rating, Movie.movieid == Rating.movieid)\\\n",
    "        .order_by(Rating.timestamp.asc())\\\n",
    "        .first()\n",
    "\n",
    "def get_last_rating(db : Session):\n",
    "    return db\\\n",
    "        .query(Movie.title, func.to_timestamp(Rating.timestamp))\\\n",
    "        .join(Rating, Movie.movieid == Rating.movieid)\\\n",
    "        .order_by(Rating.timestamp.desc())\\\n",
    "        .first()\n",
    "\n",
    "def get_movies_from_1990(db : Session):\n",
    "    return db\\\n",
    "        .query(Movie.title)\\\n",
    "        .filter(Movie.title.like('%(1990)%'))\\\n",
    "        .all()\n"
   ]
  },
  {
   "cell_type": "markdown",
   "id": "b62eafc1",
   "metadata": {},
   "source": [
    "**1. How many movies are in the dataset?**"
   ]
  },
  {
   "cell_type": "code",
   "execution_count": 104,
   "id": "c58e1dae",
   "metadata": {},
   "outputs": [
    {
     "name": "stdout",
     "output_type": "stream",
     "text": [
      "Total number of movies: [9742]\n"
     ]
    }
   ],
   "source": [
    "movie_count = get_movies_count(db = DB_session())\n",
    "print(f\"Total number of movies: [{movie_count}]\")"
   ]
  },
  {
   "cell_type": "markdown",
   "id": "c5e355fe",
   "metadata": {},
   "source": [
    "**2. What is the most common genre of movie?**"
   ]
  },
  {
   "cell_type": "code",
   "execution_count": 105,
   "id": "1e793729",
   "metadata": {},
   "outputs": [
    {
     "name": "stdout",
     "output_type": "stream",
     "text": [
      "Most common genre: \"Drama\", Total count: [1053]\n"
     ]
    }
   ],
   "source": [
    "most_common_genre = get_most_common_genre(db = DB_session())\n",
    "print(f\"Most common genre: \\\"{most_common_genre[0]}\\\", Total count: [{most_common_genre[1]}]\")"
   ]
  },
  {
   "cell_type": "markdown",
   "id": "0fd0582d",
   "metadata": {},
   "source": [
    "**3. What are top 10 movies with the highest rating?**"
   ]
  },
  {
   "cell_type": "code",
   "execution_count": 106,
   "id": "19f131fb",
   "metadata": {},
   "outputs": [
    {
     "name": "stdout",
     "output_type": "stream",
     "text": [
      "============================== Top 10 movies ==============================\n",
      "[1 ]. Brother (Brat) (1997)                              AVG_Rating: [5.00]\n",
      "[2 ]. Eva (2011)                                         AVG_Rating: [5.00]\n",
      "[3 ]. Go for Zucker! (Alles auf Zucker!) (2004)          AVG_Rating: [5.00]\n",
      "[4 ]. Holy Motors (2012)                                 AVG_Rating: [5.00]\n",
      "[5 ]. Connections (1978)                                 AVG_Rating: [5.00]\n",
      "[6 ]. Watching the Detectives (2007)                     AVG_Rating: [5.00]\n",
      "[7 ]. Girls About Town (1931)                            AVG_Rating: [5.00]\n",
      "[8 ]. Story of Women (Affaire de femmes, Une) (1988)     AVG_Rating: [5.00]\n",
      "[9 ]. Nasu: Summer in Andalusia (2003)                   AVG_Rating: [5.00]\n",
      "[10]. Into the Woods (1991)                              AVG_Rating: [5.00]\n"
     ]
    }
   ],
   "source": [
    "top_10_movies = get_top_10_movies(db = DB_session())\n",
    "print(\"=\" * 30, \"Top 10 movies\", \"=\" * 30)\n",
    "for rank, movie in enumerate(top_10_movies, start = 1):\n",
    "    print(f\"[{rank:<2}]. {movie[0]:<50} AVG_Rating: [{movie[1]:.2f}]\" )"
   ]
  },
  {
   "cell_type": "markdown",
   "id": "e0289f5e",
   "metadata": {},
   "source": [
    "**4. Who are the 5 most often rating users?**"
   ]
  },
  {
   "cell_type": "code",
   "execution_count": 107,
   "id": "642c64c6",
   "metadata": {},
   "outputs": [
    {
     "name": "stdout",
     "output_type": "stream",
     "text": [
      "=========  Top 5 most active users  =========\n",
      "[1]. USER_ID: [  414] \tRating count: [ 2698]\n",
      "[2]. USER_ID: [  599] \tRating count: [ 2478]\n",
      "[3]. USER_ID: [  474] \tRating count: [ 2108]\n",
      "[4]. USER_ID: [  448] \tRating count: [ 1864]\n",
      "[5]. USER_ID: [  274] \tRating count: [ 1346]\n"
     ]
    }
   ],
   "source": [
    "most_active_users = get_5_most_often_rating_users(db = DB_session())\n",
    "print(\"=\" * 9, \" Top 5 most active users \", \"=\" * 9)\n",
    "for rank, user in enumerate(most_active_users, start = 1):\n",
    "    print(f\"[{rank}]. USER_ID: [{user[0]:>5}] \\tRating count: [{user[1]:>5}]\")"
   ]
  },
  {
   "cell_type": "markdown",
   "id": "bd405640",
   "metadata": {},
   "source": [
    "**5. When was done first and last rate included in dataset, and what was the rated movie title?**"
   ]
  },
  {
   "cell_type": "code",
   "execution_count": 108,
   "id": "2e0b2543",
   "metadata": {},
   "outputs": [
    {
     "name": "stdout",
     "output_type": "stream",
     "text": [
      "First rating:    Copycat (1995)    at 1996-03-29 18:36:55+00:00\n",
      "Last  rating:     Crumb (1994)     at 2018-09-24 14:27:30+00:00\n"
     ]
    }
   ],
   "source": [
    "first_rating = get_first_rating(db = DB_session())\n",
    "print(f\"First rating: {first_rating[0]:^20} at {first_rating[1]}\")\n",
    "\n",
    "last_rating = get_last_rating(db = DB_session())\n",
    "print(f\"Last  rating: {last_rating[0]:^20} at {last_rating[1]}\")"
   ]
  },
  {
   "cell_type": "markdown",
   "id": "01ae4fb3",
   "metadata": {},
   "source": [
    "**6. Find all movies released in 1990.**"
   ]
  },
  {
   "cell_type": "code",
   "execution_count": 109,
   "id": "52686eb1",
   "metadata": {},
   "outputs": [
    {
     "name": "stdout",
     "output_type": "stream",
     "text": [
      "=============== Movies released in 1990 ===============\n",
      "[0  ]. Home Alone (1990)\n",
      "[1  ]. Ghost (1990)\n",
      "[2  ]. Dances with Wolves (1990)\n",
      "[3  ]. Pretty Woman (1990)\n",
      "[4  ]. Days of Thunder (1990)\n",
      "[5  ]. Grifters, The (1990)\n",
      "[6  ]. Tie Me Up! Tie Me Down! (¡Átame!) (1990)\n",
      "[7  ]. Paris Is Burning (1990)\n",
      "[8  ]. Goodfellas (1990)\n",
      "[9  ]. Trust (1990)\n",
      "[10 ]. Rosencrantz and Guildenstern Are Dead (1990)\n",
      "[11 ]. Miller's Crossing (1990)\n",
      "[12 ]. Femme Nikita, La (Nikita) (1990)\n",
      "[13 ]. Pump Up the Volume (1990)\n",
      "[14 ]. Cyrano de Bergerac (1990)\n",
      "[15 ]. Amityville Curse, The (1990)\n",
      "[16 ]. Die Hard 2 (1990)\n",
      "[17 ]. Young Guns II (1990)\n",
      "[18 ]. Marked for Death (1990)\n",
      "[19 ]. Hunt for Red October, The (1990)\n",
      "[20 ]. King of New York (1990)\n",
      "[21 ]. Metropolitan (1990)\n",
      "[22 ]. Child's Play 2 (1990)\n",
      "[23 ]. Exorcist III, The (1990)\n",
      "[24 ]. Gremlins 2: The New Batch (1990)\n",
      "[25 ]. Back to the Future Part III (1990)\n",
      "[26 ]. Godfather: Part III, The (1990)\n",
      "[27 ]. Rescuers Down Under, The (1990)\n",
      "[28 ]. NeverEnding Story II: The Next Chapter, The (1990)\n",
      "[29 ]. My Blue Heaven (1990)\n",
      "[30 ]. Sheltering Sky, The (1990)\n",
      "[31 ]. Edward Scissorhands (1990)\n",
      "[32 ]. Tales from the Darkside: The Movie (1990)\n",
      "[33 ]. Heart Condition (1990)\n",
      "[34 ]. Rocky V (1990)\n",
      "[35 ]. Dick Tracy (1990)\n",
      "[36 ]. Arachnophobia (1990)\n",
      "[37 ]. Problem Child (1990)\n",
      "[38 ]. Total Recall (1990)\n",
      "[39 ]. Guardian, The (1990)\n",
      "[40 ]. RoboCop 2 (1990)\n",
      "[41 ]. Bride of Re-Animator (1990)\n",
      "[42 ]. Repossessed (1990)\n",
      "[43 ]. Stanley & Iris (1990)\n",
      "[44 ]. Awakenings (1990)\n",
      "[45 ]. Come See the Paradise (1990)\n",
      "[46 ]. Bonfire of the Vanities (1990)\n",
      "[47 ]. Two Jakes, The (1990)\n",
      "[48 ]. Pacific Heights (1990)\n",
      "[49 ]. Mo' Better Blues (1990)\n",
      "[50 ]. Teenage Mutant Ninja Turtles (1990)\n",
      "[51 ]. Jacob's Ladder (1990)\n",
      "[52 ]. Misery (1990)\n",
      "[53 ]. All the Vermeers in New York (1990)\n",
      "[54 ]. Flatliners (1990)\n",
      "[55 ]. Predator 2 (1990)\n",
      "[56 ]. Bird on a Wire (1990)\n",
      "[57 ]. Long Walk Home, The (1990)\n",
      "[58 ]. Hamlet (1990)\n",
      "[59 ]. Hot Spot, The (1990)\n",
      "[60 ]. House Party (1990)\n",
      "[61 ]. Air America (1990)\n",
      "[62 ]. Slumber Party Massacre III (1990)\n",
      "[63 ]. Sorority House Massacre II (1990)\n",
      "[64 ]. Avalon (1990)\n",
      "[65 ]. Mermaids (1990)\n",
      "[66 ]. Navy Seals (1990)\n",
      "[67 ]. Reversal of Fortune (1990)\n",
      "[68 ]. Alice (1990)\n",
      "[69 ]. Lord of the Flies (1990)\n",
      "[70 ]. Another 48 Hrs. (1990)\n",
      "[71 ]. Russia House, The (1990)\n",
      "[72 ]. Joe Versus the Volcano (1990)\n",
      "[73 ]. Taking Care of Business (1990)\n",
      "[74 ]. Three Men and a Little Lady (1990)\n",
      "[75 ]. Cadillac Man (1990)\n",
      "[76 ]. Wild Orchid (1990)\n",
      "[77 ]. Mountains of the Moon (1990)\n",
      "[78 ]. Men at Work (1990)\n",
      "[79 ]. Betsy's Wedding (1990)\n",
      "[80 ]. Ernest Goes to Jail (1990)\n",
      "[81 ]. Spaced Invaders (1990)\n",
      "[82 ]. Flashback (1990)\n",
      "[83 ]. My Father's Glory (La gloire de mon père) (1990)\n",
      "[84 ]. My Mother's Castle (Château de ma mère, Le) (1990)\n",
      "[85 ]. Blue Steel (1990)\n",
      "[86 ]. Miami Blues (1990)\n",
      "[87 ]. Europa Europa (Hitlerjunge Salomon) (1990)\n",
      "[88 ]. Green Card (1990)\n",
      "[89 ]. Akira Kurosawa's Dreams (Dreams) (1990)\n",
      "[90 ]. Sibling Rivalry (1990)\n",
      "[91 ]. Loose Cannons (1990)\n",
      "[92 ]. I Love You to Death (1990)\n",
      "[93 ]. Tremors (1990)\n",
      "[94 ]. Angel at My Table, An (1990)\n",
      "[95 ]. Handmaid's Tale, The (1990)\n",
      "[96 ]. Rookie, The (1990)\n",
      "[97 ]. White Hunter, Black Heart (1990)\n",
      "[98 ]. Darkman (1990)\n",
      "[99 ]. Freshman, The (1990)\n",
      "[100]. Kindergarten Cop (1990)\n",
      "[101]. Mr. Destiny (1990)\n",
      "[102]. Presumed Innocent (1990)\n",
      "[103]. Quick Change (1990)\n",
      "[104]. Revenge (1990)\n",
      "[105]. Wild at Heart (1990)\n",
      "[106]. Witches, The (1990)\n",
      "[107]. Madhouse (1990)\n",
      "[108]. Adventures of Ford Fairlane, The (1990)\n",
      "[109]. Henry & June (1990)\n",
      "[110]. Look Who's Talking Too (1990)\n",
      "[111]. Twister (1990)\n",
      "[112]. Nightbreed (1990)\n",
      "[113]. Robot Jox (1990)\n",
      "[114]. Frankenstein Unbound (1990)\n",
      "[115]. Delta Force 2 (Delta Force 2: The Colombian Connection) (1990)\n",
      "[116]. Night of the Living Dead (1990)\n",
      "[117]. Hairdresser's Husband, The (Le mari de la coiffeuse) (1990)\n",
      "[118]. Book of Love (1990)\n",
      "[119]. Memphis Belle (1990)\n",
      "[120]. Almost an Angel (1990)\n",
      "[121]. Cry-Baby (1990)\n",
      "[122]. Bullet in the Head (1990)\n",
      "[123]. Ghost Dad (1990)\n",
      "[124]. It (1990)\n",
      "[125]. Ju Dou (1990)\n",
      "[126]. Krays, The (1990)\n",
      "[127]. Lionheart (1990)\n",
      "[128]. Nuns on the Run (1990)\n",
      "[129]. State of Grace (1990)\n",
      "[130]. Days of Being Wild (A Fei jingjyuhn) (1990)\n",
      "[131]. Begotten (1990)\n",
      "[132]. Quigley Down Under (1990)\n",
      "[133]. Captain America (1990)\n",
      "[134]. Hardware (1990)\n",
      "[135]. Match Factory Girl, The (Tulitikkutehtaan tyttö) (1990)\n",
      "[136]. Heaven and Earth (Ten to Chi to) (1990)\n",
      "[137]. Troll 2 (1990)\n",
      "[138]. Civil War, The (1990)\n",
      "[139]. Mickey's The Prince and the Pauper (1990)\n",
      "[140]. Dragon Ball Z the Movie: The World's Strongest (a.k.a. Dragon Ball Z: The Strongest Guy in The World) (Doragon bôru Z: Kono yo de ichiban tsuyoi yatsu) (1990)\n",
      "[141]. Dragon Ball Z the Movie: The Tree of Might (Doragon bôru Z 3: Chikyû marugoto chô kessen) (1990)\n",
      "[142]. Dragon Ball Z: Bardock - The Father of Goku (Doragon bôru Z: Tatta hitori no saishuu kessen - Furiiza ni itonda Z senshi Kakarotto no chichi) (1990)\n",
      "[143]. I Bought a Vampire Motorcycle (1990)\n",
      "[144]. Maniac Cop 2 (1990)\n",
      "[145]. Jetsons: The Movie (1990)\n",
      "[146]. The Forbidden Dance (1990)\n"
     ]
    }
   ],
   "source": [
    "movies_1990 = get_movies_from_1990(db = DB_session())\n",
    "print(\"=\" * 15, \"Movies released in 1990\", \"=\" * 15)\n",
    "for count, movie in enumerate(movies_1990):\n",
    "    print(f\"[{count:<3}]. {movie[0]}\")"
   ]
  },
  {
   "cell_type": "code",
   "execution_count": 110,
   "id": "f35807ab",
   "metadata": {},
   "outputs": [],
   "source": [
    "DB_session().close()"
   ]
  }
 ],
 "metadata": {
  "kernelspec": {
   "display_name": "Python 3 (ipykernel)",
   "language": "python",
   "name": "python3"
  },
  "language_info": {
   "codemirror_mode": {
    "name": "ipython",
    "version": 3
   },
   "file_extension": ".py",
   "mimetype": "text/x-python",
   "name": "python",
   "nbconvert_exporter": "python",
   "pygments_lexer": "ipython3",
   "version": "3.9.20"
  }
 },
 "nbformat": 4,
 "nbformat_minor": 5
}
